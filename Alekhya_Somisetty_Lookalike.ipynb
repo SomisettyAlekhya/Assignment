{
  "nbformat": 4,
  "nbformat_minor": 0,
  "metadata": {
    "colab": {
      "provenance": []
    },
    "kernelspec": {
      "name": "python3",
      "display_name": "Python 3"
    },
    "language_info": {
      "name": "python"
    }
  },
  "cells": [
    {
      "cell_type": "code",
      "execution_count": null,
      "metadata": {
        "id": "kQ6Tsx8dmiPO"
      },
      "outputs": [],
      "source": [
        "import pandas as pd"
      ]
    },
    {
      "cell_type": "code",
      "source": [
        "# Load the datasets\n",
        "customers = pd.read_csv('/content/Customers.csv')\n",
        "products = pd.read_csv('/content/Products.csv')\n",
        "transactions=pd.read_csv('/content/Transactions.csv')\n"
      ],
      "metadata": {
        "id": "Pj_R9sq42VIK"
      },
      "execution_count": null,
      "outputs": []
    },
    {
      "cell_type": "code",
      "source": [
        "# Display the first five rows of each dataset\n",
        "print(\"Customers Data:\")\n",
        "print(customers.head())\n",
        "\n",
        "print(\"\\nProducts Data:\")\n",
        "print(products.head())\n",
        "\n",
        "print(\"\\nProducts Data:\")\n",
        "print(transactions.head())"
      ],
      "metadata": {
        "colab": {
          "base_uri": "https://localhost:8080/"
        },
        "id": "bMuPn5cF5AOj",
        "outputId": "55754a63-fe63-4b21-9c24-3d411cb3166d"
      },
      "execution_count": null,
      "outputs": [
        {
          "output_type": "stream",
          "name": "stdout",
          "text": [
            "Customers Data:\n",
            "  CustomerID        CustomerName         Region  SignupDate\n",
            "0      C0001    Lawrence Carroll  South America  2022-07-10\n",
            "1      C0002      Elizabeth Lutz           Asia  2022-02-13\n",
            "2      C0003      Michael Rivera  South America  2024-03-07\n",
            "3      C0004  Kathleen Rodriguez  South America  2022-10-09\n",
            "4      C0005         Laura Weber           Asia  2022-08-15\n",
            "\n",
            "Products Data:\n",
            "  ProductID              ProductName     Category   Price\n",
            "0      P001     ActiveWear Biography        Books  169.30\n",
            "1      P002    ActiveWear Smartwatch  Electronics  346.30\n",
            "2      P003  ComfortLiving Biography        Books   44.12\n",
            "3      P004            BookWorld Rug   Home Decor   95.69\n",
            "4      P005          TechPro T-Shirt     Clothing  429.31\n",
            "\n",
            "Products Data:\n",
            "  TransactionID CustomerID ProductID      TransactionDate  Quantity  \\\n",
            "0        T00001      C0199      P067  2024-08-25 12:38:23         1   \n",
            "1        T00112      C0146      P067  2024-05-27 22:23:54         1   \n",
            "2        T00166      C0127      P067  2024-04-25 07:38:55         1   \n",
            "3        T00272      C0087      P067  2024-03-26 22:55:37         2   \n",
            "4        T00363      C0070      P067  2024-03-21 15:10:10         3   \n",
            "\n",
            "   TotalValue   Price  \n",
            "0      300.68  300.68  \n",
            "1      300.68  300.68  \n",
            "2      300.68  300.68  \n",
            "3      601.36  300.68  \n",
            "4      902.04  300.68  \n"
          ]
        }
      ]
    },
    {
      "cell_type": "code",
      "source": [
        "# Display the last five rows of each dataset\n",
        "print(\"Customers Data:\")\n",
        "print(customers.tail())\n",
        "\n",
        "print(\"\\nProducts Data:\")\n",
        "print(products.tail())\n",
        "\n",
        "print(\"\\nProducts Data:\")\n",
        "print(transactions.tail())\n",
        "\n"
      ],
      "metadata": {
        "colab": {
          "base_uri": "https://localhost:8080/"
        },
        "id": "1bVYI_gj7g-v",
        "outputId": "a84eb615-1e96-4240-d6b2-8c526f405a34"
      },
      "execution_count": null,
      "outputs": [
        {
          "output_type": "stream",
          "name": "stdout",
          "text": [
            "Customers Data:\n",
            "    CustomerID      CustomerName  Region  SignupDate\n",
            "195      C0196       Laura Watts  Europe  2022-06-07\n",
            "196      C0197  Christina Harvey  Europe  2023-03-21\n",
            "197      C0198       Rebecca Ray  Europe  2022-02-27\n",
            "198      C0199    Andrea Jenkins  Europe  2022-12-03\n",
            "199      C0200       Kelly Cross    Asia  2023-06-11\n",
            "\n",
            "Products Data:\n",
            "   ProductID             ProductName     Category   Price\n",
            "95      P096    SoundWave Headphones  Electronics  307.47\n",
            "96      P097      BookWorld Cookbook        Books  319.34\n",
            "97      P098        SoundWave Laptop  Electronics  299.93\n",
            "98      P099  SoundWave Mystery Book        Books  354.29\n",
            "99      P100       HomeSense Sweater     Clothing  126.34\n",
            "\n",
            "Products Data:\n",
            "    TransactionID CustomerID ProductID      TransactionDate  Quantity  \\\n",
            "995        T00496      C0118      P037  2024-10-24 08:30:27         1   \n",
            "996        T00759      C0059      P037  2024-06-04 02:15:24         3   \n",
            "997        T00922      C0018      P037  2024-04-05 13:05:32         4   \n",
            "998        T00959      C0115      P037  2024-09-29 10:16:02         2   \n",
            "999        T00992      C0024      P037  2024-04-21 10:52:24         1   \n",
            "\n",
            "     TotalValue   Price  \n",
            "995      459.86  459.86  \n",
            "996     1379.58  459.86  \n",
            "997     1839.44  459.86  \n",
            "998      919.72  459.86  \n",
            "999      459.86  459.86  \n"
          ]
        }
      ]
    },
    {
      "cell_type": "code",
      "source": [
        "# Display the information of each dataset\n",
        "print(\"Customers Data:\")\n",
        "print(customers.info())\n",
        "\n",
        "print(\"\\nProducts Data:\")\n",
        "print(products.info())\n",
        "\n",
        "print(\"\\nProducts Data:\")\n",
        "print(transactions.info())\n",
        "\n"
      ],
      "metadata": {
        "colab": {
          "base_uri": "https://localhost:8080/"
        },
        "id": "90f-I2RY7juW",
        "outputId": "52f14e77-551b-47a0-a275-617e9a7bff0b"
      },
      "execution_count": null,
      "outputs": [
        {
          "output_type": "stream",
          "name": "stdout",
          "text": [
            "Customers Data:\n",
            "<class 'pandas.core.frame.DataFrame'>\n",
            "RangeIndex: 200 entries, 0 to 199\n",
            "Data columns (total 4 columns):\n",
            " #   Column        Non-Null Count  Dtype \n",
            "---  ------        --------------  ----- \n",
            " 0   CustomerID    200 non-null    object\n",
            " 1   CustomerName  200 non-null    object\n",
            " 2   Region        200 non-null    object\n",
            " 3   SignupDate    200 non-null    object\n",
            "dtypes: object(4)\n",
            "memory usage: 6.4+ KB\n",
            "None\n",
            "\n",
            "Products Data:\n",
            "<class 'pandas.core.frame.DataFrame'>\n",
            "RangeIndex: 100 entries, 0 to 99\n",
            "Data columns (total 4 columns):\n",
            " #   Column       Non-Null Count  Dtype  \n",
            "---  ------       --------------  -----  \n",
            " 0   ProductID    100 non-null    object \n",
            " 1   ProductName  100 non-null    object \n",
            " 2   Category     100 non-null    object \n",
            " 3   Price        100 non-null    float64\n",
            "dtypes: float64(1), object(3)\n",
            "memory usage: 3.3+ KB\n",
            "None\n",
            "\n",
            "Products Data:\n",
            "<class 'pandas.core.frame.DataFrame'>\n",
            "RangeIndex: 1000 entries, 0 to 999\n",
            "Data columns (total 7 columns):\n",
            " #   Column           Non-Null Count  Dtype  \n",
            "---  ------           --------------  -----  \n",
            " 0   TransactionID    1000 non-null   object \n",
            " 1   CustomerID       1000 non-null   object \n",
            " 2   ProductID        1000 non-null   object \n",
            " 3   TransactionDate  1000 non-null   object \n",
            " 4   Quantity         1000 non-null   int64  \n",
            " 5   TotalValue       1000 non-null   float64\n",
            " 6   Price            1000 non-null   float64\n",
            "dtypes: float64(2), int64(1), object(4)\n",
            "memory usage: 54.8+ KB\n",
            "None\n"
          ]
        }
      ]
    },
    {
      "cell_type": "code",
      "source": [
        "# Check for missing values\n",
        "print(\"\\nMissing Values in Customers:\")\n",
        "print(customers.isnull().sum())\n",
        "\n",
        "print(\"\\nMissing Values in Products:\")\n",
        "print(products.isnull().sum())\n",
        "\n",
        "print(\"\\nMissing Values in Transactions:\")\n",
        "print(transactions.isnull().sum())\n",
        "\n"
      ],
      "metadata": {
        "colab": {
          "base_uri": "https://localhost:8080/"
        },
        "id": "zXsgreUg7mVF",
        "outputId": "3a4760ea-44a6-4cfc-84ee-86972db703f1"
      },
      "execution_count": null,
      "outputs": [
        {
          "output_type": "stream",
          "name": "stdout",
          "text": [
            "\n",
            "Missing Values in Customers:\n",
            "CustomerID      0\n",
            "CustomerName    0\n",
            "Region          0\n",
            "SignupDate      0\n",
            "dtype: int64\n",
            "\n",
            "Missing Values in Products:\n",
            "ProductID      0\n",
            "ProductName    0\n",
            "Category       0\n",
            "Price          0\n",
            "dtype: int64\n",
            "\n",
            "Missing Values in Transactions:\n",
            "TransactionID      0\n",
            "CustomerID         0\n",
            "ProductID          0\n",
            "TransactionDate    0\n",
            "Quantity           0\n",
            "TotalValue         0\n",
            "Price              0\n",
            "dtype: int64\n"
          ]
        }
      ]
    },
    {
      "cell_type": "code",
      "source": [
        "from sklearn.preprocessing import OneHotEncoder\n",
        "from sklearn.metrics.pairwise import cosine_similarity\n",
        "from sklearn.preprocessing import StandardScaler\n",
        "from datetime import datetime"
      ],
      "metadata": {
        "id": "Xx-3XpitlGt3"
      },
      "execution_count": null,
      "outputs": []
    },
    {
      "cell_type": "code",
      "source": [
        "customers['SignupDate'] = pd.to_datetime(customers['SignupDate'])\n",
        "customers['DaysSinceSignup'] = (datetime.now() - customers['SignupDate']).dt.days\n"
      ],
      "metadata": {
        "id": "E4VWY0uZS0JS"
      },
      "execution_count": null,
      "outputs": []
    },
    {
      "cell_type": "code",
      "source": [
        "# Encode 'Region' using OneHotEncoder\n",
        "encoder = OneHotEncoder()\n",
        "region_encoded = encoder.fit_transform(customers[['Region']])\n"
      ],
      "metadata": {
        "id": "2Cbz2YDwS0F7"
      },
      "execution_count": null,
      "outputs": []
    },
    {
      "cell_type": "code",
      "source": [
        "# Feature Engineering: Combine customer profile and product purchases (dummy example)\n",
        "customer_features = pd.DataFrame(region_encoded.toarray(), columns=encoder.categories_[0])\n",
        "customer_features['DaysSinceSignup'] = customers['DaysSinceSignup']"
      ],
      "metadata": {
        "id": "AUKdIX30lQfD"
      },
      "execution_count": null,
      "outputs": []
    },
    {
      "cell_type": "code",
      "source": [
        "# Normalize prices\n",
        "scaler = StandardScaler()\n",
        "products['Price'] = scaler.fit_transform(products[['Price']])"
      ],
      "metadata": {
        "id": "8K-DGEVPlbiD"
      },
      "execution_count": null,
      "outputs": []
    },
    {
      "cell_type": "code",
      "source": [
        "# Calculate similarity between customers\n",
        "customer_feature_matrix = customer_features.values  # Just an example\n",
        "similarity_matrix = cosine_similarity(customer_feature_matrix)"
      ],
      "metadata": {
        "id": "CET2VcBIlhTT"
      },
      "execution_count": null,
      "outputs": []
    },
    {
      "cell_type": "code",
      "source": [
        "import numpy as np"
      ],
      "metadata": {
        "id": "Dw6YU-JJlqMR"
      },
      "execution_count": null,
      "outputs": []
    },
    {
      "cell_type": "code",
      "source": [
        "# Top 3 recommendations based on similarity\n",
        "top_3_customers = {}\n",
        "for i in range(len(customers)):\n",
        "    sim_scores = similarity_matrix[i]\n",
        "    top_3_indices = np.argsort(sim_scores)[-4:-1]  # Get the indices of top 3 similar customers\n",
        "    top_3_scores = sim_scores[top_3_indices]\n",
        "\n",
        "    top_3_customers[customers['CustomerID'][i]] = list(zip(customers['CustomerID'][top_3_indices], top_3_scores))\n"
      ],
      "metadata": {
        "id": "iEdAuK-hllgj"
      },
      "execution_count": null,
      "outputs": []
    },
    {
      "cell_type": "code",
      "source": [
        "# Create the Lookalike.csv file\n",
        "lookalike_df = pd.DataFrame(top_3_customers.items(), columns=['cust_id', 'lookalikes'])\n",
        "lookalike_df.to_csv('Lookalike.csv', index=False)\n",
        "\n",
        "# Print the top 3 lookalikes for all customers\n",
        "for cust_id, lookalikes in top_3_customers.items():\n",
        "    print(f\"Customer {cust_id} -> Top 3 Lookalikes: {lookalikes}\")"
      ],
      "metadata": {
        "colab": {
          "base_uri": "https://localhost:8080/"
        },
        "id": "mek8hJ1mhMqu",
        "outputId": "33bc4dd3-d157-4886-b2fd-664f2e9a43e3"
      },
      "execution_count": null,
      "outputs": [
        {
          "output_type": "stream",
          "name": "stdout",
          "text": [
            "Customer C0001 -> Top 3 Lookalikes: [('C0071', 0.9999999999468924), ('C0025', 0.9999999999762451), ('C0112', 0.999999999994023)]\n",
            "Customer C0002 -> Top 3 Lookalikes: [('C0040', 0.9999999998125529), ('C0045', 0.9999999999452731), ('C0134', 0.999999999986471)]\n",
            "Customer C0003 -> Top 3 Lookalikes: [('C0076', 0.999999975559986), ('C0126', 0.9999999894523861), ('C0052', 0.9999999894523861)]\n",
            "Customer C0004 -> Top 3 Lookalikes: [('C0192', 0.9999999994506541), ('C0102', 0.999999999494308), ('C0108', 0.9999999998810423)]\n",
            "Customer C0005 -> Top 3 Lookalikes: [('C0007', 0.9999999976779262), ('C0106', 0.9999999987671407), ('C0159', 0.9999999999378554)]\n",
            "Customer C0006 -> Top 3 Lookalikes: [('C0126', 0.9999999432130708), ('C0181', 0.9999999517679141), ('C0076', 0.9999999658974945)]\n",
            "Customer C0007 -> Top 3 Lookalikes: [('C0005', 0.9999999976779262), ('C0175', 0.9999999978745827), ('C0159', 0.9999999983755298)]\n",
            "Customer C0008 -> Top 3 Lookalikes: [('C0183', 0.9999999974160476), ('C0016', 0.9999999976755671), ('C0189', 0.9999999979183274)]\n",
            "Customer C0009 -> Top 3 Lookalikes: [('C0164', 0.9999999732819291), ('C0170', 0.9999999935920741), ('C0121', 0.9999999971726309)]\n",
            "Customer C0010 -> Top 3 Lookalikes: [('C0019', 0.9999999988117602), ('C0199', 0.9999999998034539), ('C0062', 0.9999999999985959)]\n",
            "Customer C0011 -> Top 3 Lookalikes: [('C0096', 0.9999999992489063), ('C0171', 0.9999999999775934), ('C0168', 0.9999999999986104)]\n",
            "Customer C0012 -> Top 3 Lookalikes: [('C0195', 0.9999982993356322), ('C0190', 0.9999986158675432), ('C0187', 0.9999999862004926)]\n",
            "Customer C0013 -> Top 3 Lookalikes: [('C0129', 0.9999998811458347), ('C0032', 0.9999998985300718), ('C0190', 0.9999999799933322)]\n",
            "Customer C0014 -> Top 3 Lookalikes: [('C0127', 0.999999243677045), ('C0057', 0.9999996073355348), ('C0044', 0.9999999131301195)]\n",
            "Customer C0015 -> Top 3 Lookalikes: [('C0016', 0.999999965546035), ('C0034', 0.9999999669239733), ('C0185', 0.9999999857378765)]\n",
            "Customer C0016 -> Top 3 Lookalikes: [('C0183', 0.9999999901900947), ('C0189', 0.9999999911944814), ('C0008', 0.9999999976755671)]\n",
            "Customer C0017 -> Top 3 Lookalikes: [('C0119', 0.9999999927787986), ('C0051', 0.999999995422336), ('C0069', 0.9999999999344874)]\n",
            "Customer C0018 -> Top 3 Lookalikes: [('C0144', 0.999999813669834), ('C0116', 0.9999998297448335), ('C0049', 0.9999999829690626)]\n",
            "Customer C0019 -> Top 3 Lookalikes: [('C0037', 0.9999999990808051), ('C0132', 0.9999999993107045), ('C0149', 0.9999999998645643)]\n",
            "Customer C0020 -> Top 3 Lookalikes: [('C0065', 0.9999997957458557), ('C0194', 0.9999998037137939), ('C0036', 0.9999998541288554)]\n",
            "Customer C0021 -> Top 3 Lookalikes: [('C0200', 0.9999999898227407), ('C0128', 0.9999999943167127), ('C0088', 0.9999999977632101)]\n",
            "Customer C0022 -> Top 3 Lookalikes: [('C0090', 0.9999999988927023), ('C0123', 0.9999999990252214), ('C0180', 0.9999999999541473)]\n",
            "Customer C0023 -> Top 3 Lookalikes: [('C0166', 0.999999999860981), ('C0070', 0.999999999950695), ('C0198', 0.9999999999901173)]\n",
            "Customer C0024 -> Top 3 Lookalikes: [('C0058', 0.9999999980730373), ('C0157', 0.9999999989040402), ('C0030', 0.9999999989040402)]\n",
            "Customer C0025 -> Top 3 Lookalikes: [('C0001', 0.9999999999762451), ('C0112', 0.9999999999940994), ('C0071', 0.9999999999941745)]\n",
            "Customer C0026 -> Top 3 Lookalikes: [('C0047', 0.9999998704258134), ('C0059', 0.9999999447734647), ('C0194', 0.9999999999008776)]\n",
            "Customer C0027 -> Top 3 Lookalikes: [('C0145', 0.9999999941386869), ('C0106', 0.9999999975918641), ('C0173', 0.9999999987512379)]\n",
            "Customer C0028 -> Top 3 Lookalikes: [('C0092', 0.9999998124126998), ('C0177', 0.9999998430808009), ('C0093', 0.9999999421565479)]\n",
            "Customer C0029 -> Top 3 Lookalikes: [('C0122', 0.9999999998039121), ('C0160', 0.9999999999442137), ('C0038', 1.0)]\n",
            "Customer C0030 -> Top 3 Lookalikes: [('C0024', 0.9999999989040402), ('C0058', 0.9999999998835348), ('C0157', 1.0)]\n",
            "Customer C0031 -> Top 3 Lookalikes: [('C0129', 0.9999999993413204), ('C0137', 0.999999999717227), ('C0087', 1.0)]\n",
            "Customer C0032 -> Top 3 Lookalikes: [('C0087', 0.9999999973091261), ('C0031', 0.9999999973091261), ('C0129', 0.9999999993130948)]\n",
            "Customer C0033 -> Top 3 Lookalikes: [('C0036', 0.9999996629839237), ('C0065', 0.9999997393725721), ('C0072', 0.9999999416170009)]\n",
            "Customer C0034 -> Top 3 Lookalikes: [('C0156', 0.9999999883183375), ('C0185', 0.9999999961007436), ('C0094', 0.9999999989630294)]\n",
            "Customer C0035 -> Top 3 Lookalikes: [('C0049', 0.9999996226859122), ('C0018', 0.9999997659797937), ('C0144', 0.9999999972859471)]\n",
            "Customer C0036 -> Top 3 Lookalikes: [('C0020', 0.9999998541288554), ('C0072', 0.9999998851433145), ('C0065', 0.9999999950980343)]\n",
            "Customer C0037 -> Top 3 Lookalikes: [('C0141', 0.9999999992954194), ('C0149', 0.9999999996510371), ('C0132', 0.9999999999834857)]\n",
            "Customer C0038 -> Top 3 Lookalikes: [('C0122', 0.9999999998039121), ('C0160', 0.9999999999442137), ('C0038', 1.0)]\n",
            "Customer C0039 -> Top 3 Lookalikes: [('C0048', 0.9999953717113911), ('C0195', 0.9999981511662083), ('C0085', 0.99999869546953)]\n",
            "Customer C0040 -> Top 3 Lookalikes: [('C0134', 0.9999999998997404), ('C0045', 0.9999999999603936), ('C0161', 0.999999999979958)]\n",
            "Customer C0041 -> Top 3 Lookalikes: [('C0069', 0.999999989486072), ('C0017', 0.9999999910804327), ('C0051', 0.9999999992825624)]\n",
            "Customer C0042 -> Top 3 Lookalikes: [('C0067', 0.9999999576033693), ('C0125', 0.999999986241046), ('C0068', 0.9999999990188322)]\n",
            "Customer C0043 -> Top 3 Lookalikes: [('C0027', 0.9999999885594703), ('C0145', 0.9999999990757672), ('C0193', 0.999999999992599)]\n",
            "Customer C0044 -> Top 3 Lookalikes: [('C0124', 0.9999987929010002), ('C0057', 0.9999998898473715), ('C0014', 0.9999999131301195)]\n",
            "Customer C0045 -> Top 3 Lookalikes: [('C0002', 0.9999999999452731), ('C0040', 0.9999999999603936), ('C0134', 0.9999999999861646)]\n",
            "Customer C0046 -> Top 3 Lookalikes: [('C0035', 0.9999979650080272), ('C0154', 0.9999998882502594), ('C0098', 0.9999999754452478)]\n",
            "Customer C0047 -> Top 3 Lookalikes: [('C0024', 0.9999999120766904), ('C0050', 0.9999999806485869), ('C0059', 0.9999999843847778)]\n",
            "Customer C0048 -> Top 3 Lookalikes: [('C0085', 0.9999891528301939), ('C0039', 0.9999953717113911), ('C0151', 0.9999956009008611)]\n",
            "Customer C0049 -> Top 3 Lookalikes: [('C0144', 0.9999996839734289), ('C0116', 0.9999999204098566), ('C0018', 0.9999999829690626)]\n",
            "Customer C0050 -> Top 3 Lookalikes: [('C0030', 0.9999999637041957), ('C0024', 0.999999975222314), ('C0047', 0.9999999806485869)]\n",
            "Customer C0051 -> Top 3 Lookalikes: [('C0069', 0.9999999942615705), ('C0017', 0.999999995422336), ('C0041', 0.9999999992825624)]\n",
            "Customer C0052 -> Top 3 Lookalikes: [('C0003', 0.9999999894523861), ('C0076', 0.9999999971236679), ('C0126', 1.0)]\n",
            "Customer C0053 -> Top 3 Lookalikes: [('C0103', 0.9999999993440071), ('C0074', 0.9999999997185363), ('C0196', 0.9999999999280174)]\n",
            "Customer C0054 -> Top 3 Lookalikes: [('C0146', 0.9999989026081165), ('C0084', 0.9999996940679639), ('C0110', 0.9999998552607355)]\n",
            "Customer C0055 -> Top 3 Lookalikes: [('C0046', 0.9999963694417279), ('C0117', 0.9999973752360485), ('C0154', 0.9999975316047703)]\n",
            "Customer C0056 -> Top 3 Lookalikes: [('C0080', 0.9999997956128186), ('C0142', 0.999999800725856), ('C0136', 0.9999999495509545)]\n",
            "Customer C0057 -> Top 3 Lookalikes: [('C0124', 0.999999412035938), ('C0014', 0.9999996073355348), ('C0044', 0.9999998898473715)]\n",
            "Customer C0058 -> Top 3 Lookalikes: [('C0183', 0.9999999992995218), ('C0157', 0.9999999998835348), ('C0030', 0.9999999998835348)]\n",
            "Customer C0059 -> Top 3 Lookalikes: [('C0194', 0.9999999399949454), ('C0026', 0.9999999447734647), ('C0047', 0.9999999843847778)]\n",
            "Customer C0060 -> Top 3 Lookalikes: [('C0070', 0.9999999993530649), ('C0074', 0.9999999993658312), ('C0103', 0.999999999732768)]\n",
            "Customer C0061 -> Top 3 Lookalikes: [('C0197', 0.9999999994844139), ('C0141', 0.9999999997428874), ('C0100', 0.9999999997742031)]\n",
            "Customer C0062 -> Top 3 Lookalikes: [('C0019', 0.999999998728666), ('C0199', 0.9999999998352737), ('C0010', 0.9999999999985959)]\n",
            "Customer C0063 -> Top 3 Lookalikes: [('C0041', 0.999999959315136), ('C0081', 0.9999999873137095), ('C0167', 0.9999999975745695)]\n",
            "Customer C0064 -> Top 3 Lookalikes: [('C0069', 0.9999999763607238), ('C0170', 0.999999985686245), ('C0119', 0.9999999940914601)]\n",
            "Customer C0065 -> Top 3 Lookalikes: [('C0020', 0.9999997957458557), ('C0072', 0.9999999276975811), ('C0036', 0.9999999950980343)]\n",
            "Customer C0066 -> Top 3 Lookalikes: [('C0105', 0.9999997179750836), ('C0114', 0.9999998070263652), ('C0111', 0.9999999255782357)]\n",
            "Customer C0067 -> Top 3 Lookalikes: [('C0094', 0.9999999675888385), ('C0068', 0.9999999695215369), ('C0156', 0.9999999891525089)]\n",
            "Customer C0068 -> Top 3 Lookalikes: [('C0067', 0.9999999695215369), ('C0125', 0.9999999779114515), ('C0042', 0.9999999990188322)]\n",
            "Customer C0069 -> Top 3 Lookalikes: [('C0119', 0.9999999940889017), ('C0051', 0.9999999942615705), ('C0017', 0.9999999999344874)]\n",
            "Customer C0070 -> Top 3 Lookalikes: [('C0166', 0.9999999996460947), ('C0198', 0.9999999998966644), ('C0023', 0.999999999950695)]\n",
            "Customer C0071 -> Top 3 Lookalikes: [('C0001', 0.9999999999468924), ('C0112', 0.9999999999765481), ('C0025', 0.9999999999941745)]\n",
            "Customer C0072 -> Top 3 Lookalikes: [('C0036', 0.9999998851433145), ('C0065', 0.9999999276975811), ('C0033', 0.9999999416170009)]\n",
            "Customer C0073 -> Top 3 Lookalikes: [('C0053', 0.9999999972294075), ('C0086', 0.99999999928061), ('C0135', 0.9999999999927466)]\n",
            "Customer C0074 -> Top 3 Lookalikes: [('C0053', 0.9999999997185363), ('C0103', 0.9999999999219344), ('C0196', 0.9999999999312325)]\n",
            "Customer C0075 -> Top 3 Lookalikes: [('C0100', 0.9999999943422729), ('C0197', 0.9999999954386347), ('C0164', 0.9999999967335966)]\n",
            "Customer C0076 -> Top 3 Lookalikes: [('C0003', 0.999999975559986), ('C0052', 0.9999999971236679), ('C0126', 0.9999999971236679)]\n",
            "Customer C0077 -> Top 3 Lookalikes: [('C0163', 0.9999998869527256), ('C0006', 0.9999998971115189), ('C0181', 0.9999999897698306)]\n",
            "Customer C0078 -> Top 3 Lookalikes: [('C0054', 0.9999863580773944), ('C0138', 0.999998130576335), ('C0115', 0.9999999333034956)]\n",
            "Customer C0079 -> Top 3 Lookalikes: [('C0160', 0.999999998457589), ('C0176', 0.9999999990605524), ('C0139', 0.9999999993846688)]\n",
            "Customer C0080 -> Top 3 Lookalikes: [('C0097', 0.999999936057136), ('C0136', 0.9999999482513201), ('C0142', 0.9999999999676161)]\n",
            "Customer C0081 -> Top 3 Lookalikes: [('C0089', 0.9999999279859241), ('C0167', 0.9999999737941878), ('C0063', 0.9999999873137095)]\n",
            "Customer C0082 -> Top 3 Lookalikes: [('C0188', 0.9999999999915359), ('C0147', 0.9999999999952486), ('C0184', 1.0)]\n",
            "Customer C0083 -> Top 3 Lookalikes: [('C0153', 0.9999999998577084), ('C0152', 0.9999999999329544), ('C0165', 0.9999999999981739)]\n",
            "Customer C0084 -> Top 3 Lookalikes: [('C0054', 0.9999996940679639), ('C0146', 0.9999997555156593), ('C0110', 0.9999999701867621)]\n",
            "Customer C0085 -> Top 3 Lookalikes: [('C0012', 0.9999976845720165), ('C0039', 0.99999869546953), ('C0195', 0.999999952668551)]\n",
            "Customer C0086 -> Top 3 Lookalikes: [('C0179', 0.9999999992343307), ('C0073', 0.99999999928061), ('C0135', 0.9999999994178282)]\n",
            "Customer C0087 -> Top 3 Lookalikes: [('C0129', 0.9999999993413204), ('C0137', 0.999999999717227), ('C0087', 1.0)]\n",
            "Customer C0088 -> Top 3 Lookalikes: [('C0200', 0.9999999971283597), ('C0021', 0.9999999977632101), ('C0128', 0.9999999992107909)]\n",
            "Customer C0089 -> Top 3 Lookalikes: [('C0063', 0.9999998548482834), ('C0081', 0.9999999279859241), ('C0127', 0.999999999742958)]\n",
            "Customer C0090 -> Top 3 Lookalikes: [('C0022', 0.9999999988927023), ('C0180', 0.999999999297505), ('C0186', 0.9999999996279401)]\n",
            "Customer C0091 -> Top 3 Lookalikes: [('C0095', 0.9999999996767266), ('C0155', 0.999999999883708), ('C0133', 0.9999999999427248)]\n",
            "Customer C0092 -> Top 3 Lookalikes: [('C0028', 0.9999998124126998), ('C0177', 0.9999999986322416), ('C0143', 0.9999999994168658)]\n",
            "Customer C0093 -> Top 3 Lookalikes: [('C0092', 0.9999995462359135), ('C0177', 0.9999995946934293), ('C0028', 0.9999999421565479)]\n",
            "Customer C0094 -> Top 3 Lookalikes: [('C0185', 0.9999999910421243), ('C0156', 0.9999999942422693), ('C0034', 0.9999999989630294)]\n",
            "Customer C0095 -> Top 3 Lookalikes: [('C0155', 0.9999999991726506), ('C0091', 0.9999999996767266), ('C0133', 0.9999999998915949)]\n",
            "Customer C0096 -> Top 3 Lookalikes: [('C0168', 0.9999999991829038), ('C0011', 0.9999999992489063), ('C0174', 0.9999999997340445)]\n",
            "Customer C0097 -> Top 3 Lookalikes: [('C0022', 0.9999999601636504), ('C0123', 0.9999999716518768), ('C0178', 0.9999999862588683)]\n",
            "Customer C0098 -> Top 3 Lookalikes: [('C0035', 0.9999983875267974), ('C0154', 0.9999997589293506), ('C0046', 0.9999999754452478)]\n",
            "Customer C0099 -> Top 3 Lookalikes: [('C0095', 0.9999999977228543), ('C0120', 0.9999999995613057), ('C0107', 0.9999999998513599)]\n",
            "Customer C0100 -> Top 3 Lookalikes: [('C0141', 0.9999999990351977), ('C0061', 0.9999999997742031), ('C0197', 0.9999999999410178)]\n",
            "Customer C0101 -> Top 3 Lookalikes: [('C0180', 0.9999999936141182), ('C0090', 0.9999999971476823), ('C0186', 0.9999999988359455)]\n",
            "Customer C0102 -> Top 3 Lookalikes: [('C0108', 0.9999999998658844), ('C0150', 0.9999999999919059), ('C0192', 0.9999999999990964)]\n",
            "Customer C0103 -> Top 3 Lookalikes: [('C0196', 0.9999999997066282), ('C0060', 0.999999999732768), ('C0074', 0.9999999999219344)]\n",
            "Customer C0104 -> Top 3 Lookalikes: [('C0083', 0.9999999987179709), ('C0153', 0.9999999994298966), ('C0118', 0.9999999998718748)]\n",
            "Customer C0105 -> Top 3 Lookalikes: [('C0114', 0.9999990584252061), ('C0066', 0.9999997179750836), ('C0111', 0.9999999333034956)]\n",
            "Customer C0106 -> Top 3 Lookalikes: [('C0159', 0.9999999981514057), ('C0005', 0.9999999987671407), ('C0173', 0.9999999998113515)]\n",
            "Customer C0107 -> Top 3 Lookalikes: [('C0095', 0.9999999987377862), ('C0120', 0.9999999989019506), ('C0099', 0.9999999998513599)]\n",
            "Customer C0108 -> Top 3 Lookalikes: [('C0192', 0.9999999998429651), ('C0102', 0.9999999998658844), ('C0004', 0.9999999998810423)]\n",
            "Customer C0109 -> Top 3 Lookalikes: [('C0029', 0.9999999997391028), ('C0038', 0.9999999997391028), ('C0122', 0.9999999999953811)]\n",
            "Customer C0110 -> Top 3 Lookalikes: [('C0146', 0.9999995549526837), ('C0054', 0.9999998552607355), ('C0084', 0.9999999701867621)]\n",
            "Customer C0111 -> Top 3 Lookalikes: [('C0114', 0.9999994929261937), ('C0066', 0.9999999255782357), ('C0105', 0.9999999333034956)]\n",
            "Customer C0112 -> Top 3 Lookalikes: [('C0071', 0.9999999999765481), ('C0001', 0.999999999994023), ('C0025', 0.9999999999940994)]\n",
            "Customer C0113 -> Top 3 Lookalikes: [('C0112', 0.9999999997470237), ('C0025', 0.9999999998183944), ('C0071', 0.9999999998776207)]\n",
            "Customer C0114 -> Top 3 Lookalikes: [('C0105', 0.9999990584252061), ('C0111', 0.9999994929261937), ('C0066', 0.9999998070263652)]\n",
            "Customer C0115 -> Top 3 Lookalikes: [('C0054', 0.9999881991158645), ('C0138', 0.9999987700921135), ('C0078', 0.9999999333034956)]\n",
            "Customer C0116 -> Top 3 Lookalikes: [('C0144', 0.9999992871919162), ('C0018', 0.9999998297448335), ('C0049', 0.9999999204098566)]\n",
            "Customer C0117 -> Top 3 Lookalikes: [('C0046', 0.9999875707651577), ('C0154', 0.9999898160955583), ('C0055', 0.9999973752360485)]\n",
            "Customer C0118 -> Top 3 Lookalikes: [('C0083', 0.9999999977792663), ('C0153', 0.999999998761237), ('C0104', 0.9999999998718748)]\n",
            "Customer C0119 -> Top 3 Lookalikes: [('C0017', 0.9999999927787986), ('C0069', 0.9999999940889017), ('C0064', 0.9999999940914601)]\n",
            "Customer C0120 -> Top 3 Lookalikes: [('C0171', 0.9999999988054671), ('C0107', 0.9999999989019506), ('C0099', 0.9999999995613057)]\n",
            "Customer C0121 -> Top 3 Lookalikes: [('C0170', 0.9999999822517568), ('C0164', 0.9999999878375224), ('C0009', 0.9999999971726309)]\n",
            "Customer C0122 -> Top 3 Lookalikes: [('C0029', 0.9999999998039121), ('C0038', 0.9999999998039121), ('C0109', 0.9999999999953811)]\n",
            "Customer C0123 -> Top 3 Lookalikes: [('C0178', 0.9999999973840422), ('C0180', 0.9999999985565388), ('C0022', 0.9999999990252214)]\n",
            "Customer C0124 -> Top 3 Lookalikes: [('C0044', 0.9999987929010002), ('C0057', 0.999999412035938), ('C0172', 0.9999997772902788)]\n",
            "Customer C0125 -> Top 3 Lookalikes: [('C0131', 0.9999999651202272), ('C0068', 0.9999999779114515), ('C0042', 0.999999986241046)]\n",
            "Customer C0126 -> Top 3 Lookalikes: [('C0003', 0.9999999894523861), ('C0076', 0.9999999971236679), ('C0126', 1.0)]\n",
            "Customer C0127 -> Top 3 Lookalikes: [('C0063', 0.9999998423748435), ('C0081', 0.9999999191240819), ('C0089', 0.999999999742958)]\n",
            "Customer C0128 -> Top 3 Lookalikes: [('C0140', 0.9999999955146717), ('C0088', 0.9999999992107909), ('C0200', 0.9999999993500139)]\n",
            "Customer C0129 -> Top 3 Lookalikes: [('C0032', 0.9999999993130948), ('C0087', 0.9999999993413204), ('C0031', 0.9999999993413204)]\n",
            "Customer C0130 -> Top 3 Lookalikes: [('C0158', 0.9999999998631641), ('C0169', 0.9999999998991593), ('C0148', 0.9999999999745566)]\n",
            "Customer C0131 -> Top 3 Lookalikes: [('C0029', 0.999999998697066), ('C0122', 0.9999999995118978), ('C0109', 0.9999999996022423)]\n",
            "Customer C0132 -> Top 3 Lookalikes: [('C0019', 0.9999999993107045), ('C0149', 0.9999999997863505), ('C0037', 0.9999999999834857)]\n",
            "Customer C0133 -> Top 3 Lookalikes: [('C0155', 0.9999999996632074), ('C0095', 0.9999999998915949), ('C0091', 0.9999999999427248)]\n",
            "Customer C0134 -> Top 3 Lookalikes: [('C0040', 0.9999999998997404), ('C0045', 0.9999999999861646), ('C0002', 0.999999999986471)]\n",
            "Customer C0135 -> Top 3 Lookalikes: [('C0179', 0.9999999973168667), ('C0086', 0.9999999994178282), ('C0073', 0.9999999999927466)]\n",
            "Customer C0136 -> Top 3 Lookalikes: [('C0080', 0.9999999482513201), ('C0056', 0.9999999495509545), ('C0142', 0.9999999508080062)]\n",
            "Customer C0137 -> Top 3 Lookalikes: [('C0087', 0.999999999717227), ('C0031', 0.999999999717227), ('C0191', 0.9999999997248948)]\n",
            "Customer C0138 -> Top 3 Lookalikes: [('C0054', 0.9999945886465914), ('C0078', 0.999998130576335), ('C0115', 0.9999987700921135)]\n",
            "Customer C0139 -> Top 3 Lookalikes: [('C0038', 0.9999999995187814), ('C0160', 0.9999999997906864), ('C0176', 0.9999999999658413)]\n",
            "Customer C0140 -> Top 3 Lookalikes: [('C0088', 0.9999999909625588), ('C0128', 0.9999999955146717), ('C0200', 0.9999999982795947)]\n",
            "Customer C0141 -> Top 3 Lookalikes: [('C0132', 0.9999999990631667), ('C0037', 0.9999999992954194), ('C0061', 0.9999999997428874)]\n",
            "Customer C0142 -> Top 3 Lookalikes: [('C0097', 0.9999999331467563), ('C0136', 0.9999999508080062), ('C0080', 0.9999999999676161)]\n",
            "Customer C0143 -> Top 3 Lookalikes: [('C0056', 0.9999997932788257), ('C0177', 0.9999999962629532), ('C0092', 0.9999999994168658)]\n",
            "Customer C0144 -> Top 3 Lookalikes: [('C0049', 0.9999996839734289), ('C0018', 0.999999813669834), ('C0035', 0.9999999972859471)]\n",
            "Customer C0145 -> Top 3 Lookalikes: [('C0027', 0.9999999941386869), ('C0043', 0.9999999990757672), ('C0193', 0.9999999992337774)]\n",
            "Customer C0146 -> Top 3 Lookalikes: [('C0054', 0.9999989026081165), ('C0110', 0.9999995549526837), ('C0084', 0.9999997555156593)]\n",
            "Customer C0147 -> Top 3 Lookalikes: [('C0184', 0.9999999999952486), ('C0082', 0.9999999999952486), ('C0188', 0.9999999999994679)]\n",
            "Customer C0148 -> Top 3 Lookalikes: [('C0158', 0.9999999999557304), ('C0130', 0.9999999999745566), ('C0169', 0.999999999975022)]\n",
            "Customer C0149 -> Top 3 Lookalikes: [('C0037', 0.9999999996510371), ('C0132', 0.9999999997863505), ('C0019', 0.9999999998645643)]\n",
            "Customer C0150 -> Top 3 Lookalikes: [('C0108', 0.9999999997918956), ('C0102', 0.9999999999919059), ('C0192', 0.999999999996411)]\n",
            "Customer C0151 -> Top 3 Lookalikes: [('C0085', 0.9999709382206454), ('C0039', 0.9999819481750595), ('C0048', 0.9999956009008611)]\n",
            "Customer C0152 -> Top 3 Lookalikes: [('C0184', 0.9999999997119177), ('C0083', 0.9999999999329544), ('C0165', 0.9999999999532582)]\n",
            "Customer C0153 -> Top 3 Lookalikes: [('C0152', 0.9999999995953167), ('C0165', 0.9999999998236432), ('C0083', 0.9999999998577084)]\n",
            "Customer C0154 -> Top 3 Lookalikes: [('C0055', 0.9999975316047703), ('C0098', 0.9999997589293506), ('C0046', 0.9999998882502594)]\n",
            "Customer C0155 -> Top 3 Lookalikes: [('C0095', 0.9999999991726506), ('C0133', 0.9999999996632074), ('C0091', 0.999999999883708)]\n",
            "Customer C0156 -> Top 3 Lookalikes: [('C0034', 0.9999999883183375), ('C0067', 0.9999999891525089), ('C0094', 0.9999999942422693)]\n",
            "Customer C0157 -> Top 3 Lookalikes: [('C0024', 0.9999999989040402), ('C0058', 0.9999999998835348), ('C0157', 1.0)]\n",
            "Customer C0158 -> Top 3 Lookalikes: [('C0130', 0.9999999998631641), ('C0148', 0.9999999999557304), ('C0169', 0.9999999999972585)]\n",
            "Customer C0159 -> Top 3 Lookalikes: [('C0106', 0.9999999981514057), ('C0007', 0.9999999983755298), ('C0005', 0.9999999999378554)]\n",
            "Customer C0160 -> Top 3 Lookalikes: [('C0176', 0.9999999999256416), ('C0038', 0.9999999999442137), ('C0029', 0.9999999999442137)]\n",
            "Customer C0161 -> Top 3 Lookalikes: [('C0045', 0.9999999998840035), ('C0162', 0.9999999999040093), ('C0040', 0.999999999979958)]\n",
            "Customer C0162 -> Top 3 Lookalikes: [('C0040', 0.9999999997962445), ('C0175', 0.9999999998526393), ('C0161', 0.9999999999040093)]\n",
            "Customer C0163 -> Top 3 Lookalikes: [('C0169', 0.9999999896826349), ('C0148', 0.999999990672954), ('C0130', 0.9999999916218036)]\n",
            "Customer C0164 -> Top 3 Lookalikes: [('C0197', 0.9999999844523201), ('C0121', 0.9999999878375224), ('C0075', 0.9999999967335966)]\n",
            "Customer C0165 -> Top 3 Lookalikes: [('C0153', 0.9999999998236432), ('C0152', 0.9999999999532582), ('C0083', 0.9999999999981739)]\n",
            "Customer C0166 -> Top 3 Lookalikes: [('C0070', 0.9999999996460947), ('C0023', 0.999999999860981), ('C0198', 0.9999999999252299)]\n",
            "Customer C0167 -> Top 3 Lookalikes: [('C0081', 0.9999999737941878), ('C0041', 0.9999999767570965), ('C0063', 0.9999999975745695)]\n",
            "Customer C0168 -> Top 3 Lookalikes: [('C0096', 0.9999999991829038), ('C0171', 0.9999999999873638), ('C0011', 0.9999999999986104)]\n",
            "Customer C0169 -> Top 3 Lookalikes: [('C0130', 0.9999999998991593), ('C0148', 0.999999999975022), ('C0158', 0.9999999999972585)]\n",
            "Customer C0170 -> Top 3 Lookalikes: [('C0121', 0.9999999822517568), ('C0064', 0.999999985686245), ('C0009', 0.9999999935920741)]\n",
            "Customer C0171 -> Top 3 Lookalikes: [('C0096', 0.9999999989670427), ('C0011', 0.9999999999775934), ('C0168', 0.9999999999873638)]\n",
            "Customer C0172 -> Top 3 Lookalikes: [('C0044', 0.9999975332103724), ('C0057', 0.9999984655991636), ('C0124', 0.9999997772902788)]\n",
            "Customer C0173 -> Top 3 Lookalikes: [('C0005', 0.9999999976139677), ('C0027', 0.9999999987512379), ('C0106', 0.9999999998113515)]\n",
            "Customer C0174 -> Top 3 Lookalikes: [('C0108', 0.9999999986464102), ('C0004', 0.9999999993299981), ('C0096', 0.9999999997340445)]\n",
            "Customer C0175 -> Top 3 Lookalikes: [('C0040', 0.9999999993023265), ('C0161', 0.9999999995187814), ('C0162', 0.9999999998526393)]\n",
            "Customer C0176 -> Top 3 Lookalikes: [('C0029', 0.9999999997410426), ('C0160', 0.9999999999256416), ('C0139', 0.9999999999658413)]\n",
            "Customer C0177 -> Top 3 Lookalikes: [('C0028', 0.9999998430808009), ('C0143', 0.9999999962629532), ('C0092', 0.9999999986322416)]\n",
            "Customer C0178 -> Top 3 Lookalikes: [('C0180', 0.999999992054177), ('C0022', 0.9999999932155322), ('C0123', 0.9999999973840422)]\n",
            "Customer C0179 -> Top 3 Lookalikes: [('C0199', 0.9999999972924757), ('C0135', 0.9999999973168667), ('C0086', 0.9999999992343307)]\n",
            "Customer C0180 -> Top 3 Lookalikes: [('C0123', 0.9999999985565388), ('C0090', 0.999999999297505), ('C0022', 0.9999999999541473)]\n",
            "Customer C0181 -> Top 3 Lookalikes: [('C0076', 0.9999998365522815), ('C0006', 0.9999999517679141), ('C0077', 0.9999999897698306)]\n",
            "Customer C0182 -> Top 3 Lookalikes: [('C0111', 0.9997579802972473), ('C0066', 0.9997663933791122), ('C0114', 0.9997796279818156)]\n",
            "Customer C0183 -> Top 3 Lookalikes: [('C0157', 0.9999999986118081), ('C0058', 0.9999999992995218), ('C0189', 0.9999999999728848)]\n",
            "Customer C0184 -> Top 3 Lookalikes: [('C0188', 0.9999999999915359), ('C0147', 0.9999999999952486), ('C0184', 1.0)]\n",
            "Customer C0185 -> Top 3 Lookalikes: [('C0015', 0.9999999857378765), ('C0094', 0.9999999910421243), ('C0034', 0.9999999961007436)]\n",
            "Customer C0186 -> Top 3 Lookalikes: [('C0180', 0.999999997902958), ('C0101', 0.9999999988359455), ('C0090', 0.9999999996279401)]\n",
            "Customer C0187 -> Top 3 Lookalikes: [('C0013', 0.9999985588832967), ('C0190', 0.9999988784759627), ('C0012', 0.9999999862004926)]\n",
            "Customer C0188 -> Top 3 Lookalikes: [('C0184', 0.9999999999915359), ('C0082', 0.9999999999915359), ('C0147', 0.9999999999994679)]\n",
            "Customer C0189 -> Top 3 Lookalikes: [('C0157', 0.9999999981966655), ('C0058', 0.9999999989967711), ('C0183', 0.9999999999728848)]\n",
            "Customer C0190 -> Top 3 Lookalikes: [('C0129', 0.9999997636122371), ('C0032', 0.9999997884106985), ('C0013', 0.9999999799933322)]\n",
            "Customer C0191 -> Top 3 Lookalikes: [('C0087', 0.9999999988842964), ('C0031', 0.9999999988842964), ('C0137', 0.9999999997248948)]\n",
            "Customer C0192 -> Top 3 Lookalikes: [('C0108', 0.9999999998429651), ('C0150', 0.999999999996411), ('C0102', 0.9999999999990964)]\n",
            "Customer C0193 -> Top 3 Lookalikes: [('C0027', 0.9999999891340351), ('C0145', 0.9999999992337774), ('C0043', 0.999999999992599)]\n",
            "Customer C0194 -> Top 3 Lookalikes: [('C0047', 0.9999998631590669), ('C0059', 0.9999999399949454), ('C0026', 0.9999999999008776)]\n",
            "Customer C0195 -> Top 3 Lookalikes: [('C0039', 0.9999981511662083), ('C0012', 0.9999982993356322), ('C0085', 0.999999952668551)]\n",
            "Customer C0196 -> Top 3 Lookalikes: [('C0103', 0.9999999997066282), ('C0053', 0.9999999999280174), ('C0074', 0.9999999999312325)]\n",
            "Customer C0197 -> Top 3 Lookalikes: [('C0141', 0.9999999984991156), ('C0061', 0.9999999994844139), ('C0100', 0.9999999999410178)]\n",
            "Customer C0198 -> Top 3 Lookalikes: [('C0070', 0.9999999998966644), ('C0166', 0.9999999999252299), ('C0023', 0.9999999999901173)]\n",
            "Customer C0199 -> Top 3 Lookalikes: [('C0019', 0.9999999976486866), ('C0010', 0.9999999998034539), ('C0062', 0.9999999998352737)]\n",
            "Customer C0200 -> Top 3 Lookalikes: [('C0088', 0.9999999971283597), ('C0140', 0.9999999982795947), ('C0128', 0.9999999993500139)]\n"
          ]
        }
      ]
    },
    {
      "cell_type": "code",
      "source": [],
      "metadata": {
        "id": "cy9-WJcnmt1I"
      },
      "execution_count": null,
      "outputs": []
    }
  ]
}